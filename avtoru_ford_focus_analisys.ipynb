{
 "cells": [
  {
   "cell_type": "markdown",
   "metadata": {
    "id": "S-9BWFkryf0e"
   },
   "source": [
    "Тут мы пробуем спиздить данные с avto.ru и как-то их проанализировать.\n",
    "Нас интересуют данные по машинам Ford Focus, II поколение (рестайлинг), коробка автомат, по всем регионам."
   ]
  },
  {
   "cell_type": "code",
   "execution_count": 2,
   "metadata": {
    "colab": {
     "base_uri": "https://localhost:8080/",
     "height": 17
    },
    "id": "i9WUcjAd4w39",
    "outputId": "3f769684-85c4-43c2-ea5b-773fab17de3f"
   },
   "outputs": [
    {
     "data": {
      "text/html": [
       "        <script type=\"text/javascript\">\n",
       "        window.PlotlyConfig = {MathJaxConfig: 'local'};\n",
       "        if (window.MathJax) {MathJax.Hub.Config({SVG: {font: \"STIX-Web\"}});}\n",
       "        if (typeof require !== 'undefined') {\n",
       "        require.undef(\"plotly\");\n",
       "        requirejs.config({\n",
       "            paths: {\n",
       "                'plotly': ['https://cdn.plot.ly/plotly-latest.min']\n",
       "            }\n",
       "        });\n",
       "        require(['plotly'], function(Plotly) {\n",
       "            window._Plotly = Plotly;\n",
       "        });\n",
       "        }\n",
       "        </script>\n",
       "        "
      ]
     },
     "metadata": {},
     "output_type": "display_data"
    }
   ],
   "source": [
    "from datetime import datetime\n",
    "import matplotlib.pyplot as plt\n",
    "from matplotlib.colors import ListedColormap\n",
    "from matplotlib.dates import HourLocator, DayLocator, MonthLocator, YearLocator, DateFormatter\n",
    "from matplotlib.pylab import rcParams\n",
    "import numpy as np\n",
    "import pandas as pd\n",
    "from plotly.offline import download_plotlyjs, init_notebook_mode, plot, iplot\n",
    "import plotly\n",
    "\n",
    "import plotly.graph_objs as go\n",
    "import seaborn as sb\n",
    "import folium\n",
    "import json\n",
    "import warnings                    # убираем ошибки из output \n",
    "warnings.filterwarnings('ignore')\n",
    "\n",
    "init_notebook_mode(connected=True)\n",
    "rcParams['figure.figsize'] = 15,6\n"
   ]
  },
  {
   "cell_type": "code",
   "execution_count": 9,
   "metadata": {
    "colab": {
     "base_uri": "https://localhost:8080/",
     "height": 574
    },
    "id": "v1GT-Dr-4w4n",
    "outputId": "c4324be1-6a96-4056-9bb6-c1bf58f9fe52"
   },
   "outputs": [
    {
     "data": {
      "text/html": [
       "<div>\n",
       "<style scoped>\n",
       "    .dataframe tbody tr th:only-of-type {\n",
       "        vertical-align: middle;\n",
       "    }\n",
       "\n",
       "    .dataframe tbody tr th {\n",
       "        vertical-align: top;\n",
       "    }\n",
       "\n",
       "    .dataframe thead th {\n",
       "        text-align: right;\n",
       "    }\n",
       "</style>\n",
       "<table border=\"1\" class=\"dataframe\">\n",
       "  <thead>\n",
       "    <tr style=\"text-align: right;\">\n",
       "      <th></th>\n",
       "      <th>availability</th>\n",
       "      <th>color_hex</th>\n",
       "      <th>description</th>\n",
       "      <th>seller_type</th>\n",
       "      <th>status</th>\n",
       "      <th>state</th>\n",
       "      <th>vehicle_info</th>\n",
       "      <th>lk_summary</th>\n",
       "      <th>owners_number</th>\n",
       "      <th>pts_original</th>\n",
       "      <th>custom_cleared</th>\n",
       "      <th>year</th>\n",
       "      <th>horse_power</th>\n",
       "      <th>seller_coords</th>\n",
       "      <th>price</th>\n",
       "      <th>state_mileage</th>\n",
       "      <th>state_not_beaten</th>\n",
       "    </tr>\n",
       "  </thead>\n",
       "  <tbody>\n",
       "    <tr>\n",
       "      <th>0</th>\n",
       "      <td>IN_STOCK</td>\n",
       "      <td>0000CC</td>\n",
       "      <td>Автомобиль в достойном состоянии. Чистый, куря...</td>\n",
       "      <td>PRIVATE</td>\n",
       "      <td>ACTIVE</td>\n",
       "      <td>{'mileage': 186400, 'state_not_beaten': True, ...</td>\n",
       "      <td>{'configuration': {'id': '2306701', 'body_type...</td>\n",
       "      <td>2.0 AT (145 л.с.), седан, передний, бензин</td>\n",
       "      <td>3</td>\n",
       "      <td>ORIGINAL</td>\n",
       "      <td>True</td>\n",
       "      <td>2009</td>\n",
       "      <td>145</td>\n",
       "      <td>(55.76226, 37.774734)</td>\n",
       "      <td>385000</td>\n",
       "      <td>186400</td>\n",
       "      <td>True</td>\n",
       "    </tr>\n",
       "    <tr>\n",
       "      <th>1</th>\n",
       "      <td>IN_STOCK</td>\n",
       "      <td>97948F</td>\n",
       "      <td>Бодрый надежный автомобиль. 2 комплекта резины...</td>\n",
       "      <td>PRIVATE</td>\n",
       "      <td>ACTIVE</td>\n",
       "      <td>{'damages': [{'car_part': 'FRONT_LEFT_DOOR', '...</td>\n",
       "      <td>{'configuration': {'id': '2306701', 'body_type...</td>\n",
       "      <td>2.0 AT (145 л.с.), седан, передний, бензин</td>\n",
       "      <td>2</td>\n",
       "      <td>ORIGINAL</td>\n",
       "      <td>True</td>\n",
       "      <td>2009</td>\n",
       "      <td>145</td>\n",
       "      <td>(59.220497, 39.891521)</td>\n",
       "      <td>420000</td>\n",
       "      <td>153000</td>\n",
       "      <td>True</td>\n",
       "    </tr>\n",
       "    <tr>\n",
       "      <th>2</th>\n",
       "      <td>IN_STOCK</td>\n",
       "      <td>97948F</td>\n",
       "      <td>- выгода 60 000 рублей при покупке авто в Trad...</td>\n",
       "      <td>COMMERCIAL</td>\n",
       "      <td>ACTIVE</td>\n",
       "      <td>{'mileage': 119000, 'state_not_beaten': True, ...</td>\n",
       "      <td>{'configuration': {'id': '2306701', 'body_type...</td>\n",
       "      <td>2.0 AT (145 л.с.), седан, передний, бензин</td>\n",
       "      <td>3</td>\n",
       "      <td>ORIGINAL</td>\n",
       "      <td>True</td>\n",
       "      <td>2010</td>\n",
       "      <td>145</td>\n",
       "      <td>(55.594612, 37.599129)</td>\n",
       "      <td>399000</td>\n",
       "      <td>119000</td>\n",
       "      <td>True</td>\n",
       "    </tr>\n",
       "    <tr>\n",
       "      <th>3</th>\n",
       "      <td>IN_STOCK</td>\n",
       "      <td>97948F</td>\n",
       "      <td>Представляем Вашему вниманию автомобиль Ford F...</td>\n",
       "      <td>COMMERCIAL</td>\n",
       "      <td>ACTIVE</td>\n",
       "      <td>{'mileage': 189196, 'state_not_beaten': True, ...</td>\n",
       "      <td>{'configuration': {'id': '2306701', 'body_type...</td>\n",
       "      <td>2.0 AT (145 л.с.), седан, передний, бензин</td>\n",
       "      <td>1</td>\n",
       "      <td>ORIGINAL</td>\n",
       "      <td>True</td>\n",
       "      <td>2009</td>\n",
       "      <td>145</td>\n",
       "      <td>(55.617271, 37.715687)</td>\n",
       "      <td>415000</td>\n",
       "      <td>189196</td>\n",
       "      <td>True</td>\n",
       "    </tr>\n",
       "    <tr>\n",
       "      <th>4</th>\n",
       "      <td>IN_STOCK</td>\n",
       "      <td>040001</td>\n",
       "      <td>Комплектация «Comfort»:\\n• Антиблокировочная с...</td>\n",
       "      <td>COMMERCIAL</td>\n",
       "      <td>ACTIVE</td>\n",
       "      <td>{'mileage': 150000, 'state_not_beaten': True, ...</td>\n",
       "      <td>{'configuration': {'id': '2306701', 'body_type...</td>\n",
       "      <td>2.0 AT (145 л.с.), седан, передний, бензин</td>\n",
       "      <td>3</td>\n",
       "      <td>ORIGINAL</td>\n",
       "      <td>True</td>\n",
       "      <td>2008</td>\n",
       "      <td>145</td>\n",
       "      <td>(60.002541, 30.306364)</td>\n",
       "      <td>355000</td>\n",
       "      <td>150000</td>\n",
       "      <td>True</td>\n",
       "    </tr>\n",
       "  </tbody>\n",
       "</table>\n",
       "</div>"
      ],
      "text/plain": [
       "  availability color_hex                                        description  \\\n",
       "0     IN_STOCK    0000CC  Автомобиль в достойном состоянии. Чистый, куря...   \n",
       "1     IN_STOCK    97948F  Бодрый надежный автомобиль. 2 комплекта резины...   \n",
       "2     IN_STOCK    97948F  - выгода 60 000 рублей при покупке авто в Trad...   \n",
       "3     IN_STOCK    97948F  Представляем Вашему вниманию автомобиль Ford F...   \n",
       "4     IN_STOCK    040001  Комплектация «Comfort»:\\n• Антиблокировочная с...   \n",
       "\n",
       "  seller_type  status                                              state  \\\n",
       "0     PRIVATE  ACTIVE  {'mileage': 186400, 'state_not_beaten': True, ...   \n",
       "1     PRIVATE  ACTIVE  {'damages': [{'car_part': 'FRONT_LEFT_DOOR', '...   \n",
       "2  COMMERCIAL  ACTIVE  {'mileage': 119000, 'state_not_beaten': True, ...   \n",
       "3  COMMERCIAL  ACTIVE  {'mileage': 189196, 'state_not_beaten': True, ...   \n",
       "4  COMMERCIAL  ACTIVE  {'mileage': 150000, 'state_not_beaten': True, ...   \n",
       "\n",
       "                                        vehicle_info  \\\n",
       "0  {'configuration': {'id': '2306701', 'body_type...   \n",
       "1  {'configuration': {'id': '2306701', 'body_type...   \n",
       "2  {'configuration': {'id': '2306701', 'body_type...   \n",
       "3  {'configuration': {'id': '2306701', 'body_type...   \n",
       "4  {'configuration': {'id': '2306701', 'body_type...   \n",
       "\n",
       "                                   lk_summary  owners_number pts_original  \\\n",
       "0  2.0 AT (145 л.с.), седан, передний, бензин              3     ORIGINAL   \n",
       "1  2.0 AT (145 л.с.), седан, передний, бензин              2     ORIGINAL   \n",
       "2  2.0 AT (145 л.с.), седан, передний, бензин              3     ORIGINAL   \n",
       "3  2.0 AT (145 л.с.), седан, передний, бензин              1     ORIGINAL   \n",
       "4  2.0 AT (145 л.с.), седан, передний, бензин              3     ORIGINAL   \n",
       "\n",
       "   custom_cleared  year  horse_power           seller_coords   price  \\\n",
       "0            True  2009          145   (55.76226, 37.774734)  385000   \n",
       "1            True  2009          145  (59.220497, 39.891521)  420000   \n",
       "2            True  2010          145  (55.594612, 37.599129)  399000   \n",
       "3            True  2009          145  (55.617271, 37.715687)  415000   \n",
       "4            True  2008          145  (60.002541, 30.306364)  355000   \n",
       "\n",
       "   state_mileage  state_not_beaten  \n",
       "0         186400              True  \n",
       "1         153000              True  \n",
       "2         119000              True  \n",
       "3         189196              True  \n",
       "4         150000              True  "
      ]
     },
     "execution_count": 9,
     "metadata": {},
     "output_type": "execute_result"
    }
   ],
   "source": [
    "offers = []\n",
    "for i in range(1, 3):\n",
    "    with open(f'/home/ivan/WORK/PYTHON/studying/scrapy_spiders/avtoru/responses/ford_focus/response_page_{i}.json') as f:\n",
    "        d = json.load(f)['offers']\n",
    "        offers.extend(d)\n",
    "df = pd.DataFrame(offers)\n",
    "df.set_index(pd.Index(range(df.shape[0])))\n",
    "df['owners_number'] = df.documents.apply(lambda x: x['owners_number'])\n",
    "df['pts_original'] = df.documents.apply(lambda x: x['pts'])\n",
    "df['custom_cleared'] = df.documents.apply(lambda x: x['custom_cleared'])\n",
    "df['year'] = df.documents.apply(lambda x: x['year'])\n",
    "# df['tax_by_year'] = df.owner_expenses.apply(lambda x: json.load(x)['transport_tax'])\n",
    "# df['tax_by_year'] = df.owner_expenses.apply(lambda x: x['transport_tax']['tax_by_year'])\n",
    "df['horse_power'] = df.vehicle_info.apply(lambda x: x['tech_param']['power'])\n",
    "df['seller_coords'] = df.seller.apply(lambda x: (x['location']['coord']['latitude'], \n",
    "                                                 x['location']['coord']['longitude']))\n",
    "df.drop(df[df.price_info == {}].index, axis=0, inplace=True)\n",
    "df['price'] = df.price_info.apply(lambda x: x['price'])\n",
    "df['state_mileage'] = df.state.apply(lambda x: x['mileage'])\n",
    "df['state_not_beaten'] = df.state.apply(lambda x: x['state_not_beaten'])\n",
    "useless_columns = ['documents', 'is_favorite', 'old_category_id', 'category', 'delivery_info', 'tags', \n",
    "                   'counters', 'grouping_info', 'hash', 'id', 'recall_info', 'saleId', 'sub_category',\n",
    "                   'multiposting', 'discount_price', 'dealer_credit_config', 'soldMinutes',\n",
    "                   'discount_options', 'section', 'services', 'shark_info', 'additional_info', 'price_info',\n",
    "                   'owner_expenses', 'price_history', 'salon', 'seller', 'badges', 'service_prices']\n",
    "for column in useless_columns:\n",
    "    try:\n",
    "        df.drop(column, axis=1, inplace=True)\n",
    "    except KeyError:\n",
    "        continue\n",
    "df.head()"
   ]
  },
  {
   "cell_type": "code",
   "execution_count": 10,
   "metadata": {
    "colab": {
     "base_uri": "https://localhost:8080/"
    },
    "id": "9Bl0-MLyN_ax",
    "outputId": "c42f99f1-b1ce-4d9e-a0c9-805be86b9466"
   },
   "outputs": [
    {
     "data": {
      "text/plain": [
       "'Автомобиль в достойном состоянии. Чистый, курящий салон. Двигатель, коробка работают без нареканий. Обслужен, ухожен вложений не требует. Хранится дома, в гараже. Срочная продажа. Торг.'"
      ]
     },
     "execution_count": 10,
     "metadata": {},
     "output_type": "execute_result"
    }
   ],
   "source": [
    "df['description'][0]"
   ]
  },
  {
   "cell_type": "code",
   "execution_count": 12,
   "metadata": {},
   "outputs": [
    {
     "data": {
      "text/plain": [
       "(45, 17)"
      ]
     },
     "execution_count": 12,
     "metadata": {},
     "output_type": "execute_result"
    }
   ],
   "source": [
    "df.shape"
   ]
  },
  {
   "cell_type": "code",
   "execution_count": 11,
   "metadata": {},
   "outputs": [
    {
     "data": {
      "text/plain": [
       "'Отличный автомобиль. Из салона выехал в 2011 г. Кожаный заводской салон.  Подогревы лобового, зеркал, передних кресел. Музыка Sony. Пробег родной. Фаркоп. Подогрев лобового стекла. Летняя резина Nokia на литье. Зимняя тоже Нокиа на литьё. Без дтп. Все стекла родные. Я хозяин. Перекурам не беспокоить. В салон не поставлю. В будни звонить с 17 до 22, в выходные с 10до 22. '"
      ]
     },
     "execution_count": 11,
     "metadata": {},
     "output_type": "execute_result"
    }
   ],
   "source": [
    "df['description'][38]"
   ]
  },
  {
   "cell_type": "code",
   "execution_count": 13,
   "metadata": {
    "colab": {
     "base_uri": "https://localhost:8080/",
     "height": 17,
     "referenced_widgets": [
      "6a471ff7759d4b6fa1afb03172571783"
     ]
    },
    "id": "KXWBThBt4w45",
    "outputId": "a7226678-6b27-492a-ef46-6758d6fda2a5"
   },
   "outputs": [
    {
     "data": {
      "text/plain": [
       "<matplotlib.axes._subplots.AxesSubplot at 0x7f286b705070>"
      ]
     },
     "execution_count": 13,
     "metadata": {},
     "output_type": "execute_result"
    },
    {
     "data": {
      "image/png": "[encoded data removed]",
      "text/plain": [
       "<Figure size 1080x432 with 1 Axes>"
      ]
     },
     "metadata": {
      "needs_background": "light"
     },
     "output_type": "display_data"
    }
   ],
   "source": [
    "sb.distplot(df.price)"
   ]
  },
  {
   "cell_type": "code",
   "execution_count": 14,
   "metadata": {
    "id": "iJlKoOUh4w5W"
   },
   "outputs": [
    {
     "data": {
      "text/plain": [
       "<matplotlib.axes._subplots.AxesSubplot at 0x7f286ab8a940>"
      ]
     },
     "execution_count": 14,
     "metadata": {},
     "output_type": "execute_result"
    },
    {
     "data": {
      "image/png": "[encoded data removed]",
      "text/plain": [
       "<Figure size 1080x432 with 1 Axes>"
      ]
     },
     "metadata": {
      "needs_background": "light"
     },
     "output_type": "display_data"
    }
   ],
   "source": [
    "sb.distplot(df.state_mileage)"
   ]
  },
  {
   "cell_type": "code",
   "execution_count": 15,
   "metadata": {},
   "outputs": [
    {
     "data": {
      "text/plain": [
       "<matplotlib.axes._subplots.AxesSubplot at 0x7f286aaf3b80>"
      ]
     },
     "execution_count": 15,
     "metadata": {},
     "output_type": "execute_result"
    },
    {
     "data": {
      "image/png": "[encoded data removed]",
      "text/plain": [
       "<Figure size 1080x432 with 1 Axes>"
      ]
     },
     "metadata": {
      "needs_background": "light"
     },
     "output_type": "display_data"
    }
   ],
   "source": [
    "sb.distplot(df.horse_power, kde=False, bins=20)"
   ]
  },
  {
   "cell_type": "code",
   "execution_count": 16,
   "metadata": {},
   "outputs": [
    {
     "data": {
      "text/html": [
       "<div style=\"width:100%;\"><div style=\"position:relative;width:100%;height:0;padding-bottom:60%;\"><span style=\"color:#565656\">Make this Notebook Trusted to load map: File -> Trust Notebook</span><iframe src=\"about:blank\" style=\"position:absolute;width:100%;height:100%;left:0;top:0;border:none !important;\" data-html=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 onload=\"this.contentDocument.open();this.contentDocument.write(atob(this.getAttribute('data-html')));this.contentDocument.close();\" allowfullscreen webkitallowfullscreen mozallowfullscreen></iframe></div></div>"
      ],
      "text/plain": [
       "<folium.folium.Map at 0x7f286aae0a90>"
      ]
     },
     "execution_count": 16,
     "metadata": {},
     "output_type": "execute_result"
    }
   ],
   "source": [
    "m = folium.Map(location=[70.5236, 105.6750],\n",
    "               zoom_start=3)\n",
    "\n",
    "for i in df.index:\n",
    "    folium.Circle( (df.seller_coords[i][0], df.seller_coords[i][1]), \n",
    "                  radius=70,\n",
    "                  tooltip=df.price[i],\n",
    "                  opacity=1,\n",
    "                  fill=True,\n",
    "                  \n",
    "                  color=f'#{df.color_hex[i]}').add_to(m)\n",
    "m"
   ]
  },
  {
   "cell_type": "code",
   "execution_count": null,
   "metadata": {},
   "outputs": [],
   "source": []
  }
 ],
 "metadata": {
  "colab": {
   "name": "honda_cr-v_analisys.ipynb",
   "provenance": []
  },
  "kernelspec": {
   "display_name": "Python 3",
   "language": "python",
   "name": "python3"
  },
  "language_info": {
   "codemirror_mode": {
    "name": "ipython",
    "version": 3
   },
   "file_extension": ".py",
   "mimetype": "text/x-python",
   "name": "python",
   "nbconvert_exporter": "python",
   "pygments_lexer": "ipython3",
   "version": "3.8.3"
  },
  "widgets": {
   "application/vnd.jupyter.widget-state+json": {
    "6a471ff7759d4b6fa1afb03172571783": {
     "model_module": "jupyter-leaflet",
     "model_name": "LeafletMapModel",
     "state": {
      "_dom_classes": [],
      "_model_module": "jupyter-leaflet",
      "_model_module_version": "^0.13.3",
      "_model_name": "LeafletMapModel",
      "_view_count": null,
      "_view_module": "jupyter-leaflet",
      "_view_module_version": "^0.13.3",
      "_view_name": "LeafletMapView",
      "bottom": 0,
      "bounce_at_zoom_limits": true,
      "box_zoom": true,
      "center": [
       55.775006,
       37.583211
      ],
      "close_popup_on_click": true,
      "controls": [
       "IPY_MODEL_ff7bb86af087460493e7cf51f6531a6d",
       "IPY_MODEL_2f53f196057a48528f3bf0b9d0bf6210"
      ],
      "crs": {
       "custom": false,
       "name": "EPSG3857"
      },
      "default_style": "IPY_MODEL_b5cf489f90e94f188cf04ff847c1b150",
      "double_click_zoom": true,
      "dragging": true,
      "dragging_style": "IPY_MODEL_cab44f7922084b639d1c8a52ed87fae0",
      "east": 0,
      "fullscreen": false,
      "inertia": true,
      "inertia_deceleration": 3000,
      "inertia_max_speed": 1500,
      "interpolation": "bilinear",
      "keyboard": true,
      "keyboard_pan_offset": 80,
      "keyboard_zoom_offset": 1,
      "layers": [
       "IPY_MODEL_836d41b8b6034bff8780c87893b98ceb",
       "IPY_MODEL_7d4e1fb7186f433a9e258477e96c7f24"
      ],
      "layout": "IPY_MODEL_0705d6a75d324cdf9eab8ded54bdcb80",
      "left": 9007199254740991,
      "max_zoom": 18,
      "min_zoom": 1,
      "modisdate": "yesterday",
      "north": 0,
      "options": [
       "bounce_at_zoom_limits",
       "box_zoom",
       "center",
       "close_popup_on_click",
       "double_click_zoom",
       "dragging",
       "fullscreen",
       "inertia",
       "inertia_deceleration",
       "inertia_max_speed",
       "interpolation",
       "keyboard",
       "keyboard_pan_offset",
       "keyboard_zoom_offset",
       "max_zoom",
       "min_zoom",
       "scroll_wheel_zoom",
       "tap",
       "tap_tolerance",
       "touch_zoom",
       "world_copy_jump",
       "zoom",
       "zoom_animation_threshold",
       "zoom_delta",
       "zoom_snap",
       "zoom_start"
      ],
      "right": 0,
      "scroll_wheel_zoom": false,
      "south": 0,
      "style": "IPY_MODEL_6dd907786aef42bcac91867b942ebe49",
      "tap": true,
      "tap_tolerance": 15,
      "top": 9007199254740991,
      "touch_zoom": true,
      "west": 0,
      "window_url": "",
      "world_copy_jump": false,
      "zoom": 10,
      "zoom_animation_threshold": 4,
      "zoom_delta": 1,
      "zoom_snap": 1,
      "zoom_start": 12
     }
    }
   }
  }
 },
 "nbformat": 4,
 "nbformat_minor": 4
}
